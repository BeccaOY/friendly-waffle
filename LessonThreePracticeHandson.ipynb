{
  "nbformat": 4,
  "nbformat_minor": 0,
  "metadata": {
    "kernelspec": {
      "display_name": "Python 3",
      "language": "python",
      "name": "python3"
    },
    "language_info": {
      "codemirror_mode": {
        "name": "ipython",
        "version": 3
      },
      "file_extension": ".py",
      "mimetype": "text/x-python",
      "name": "python",
      "nbconvert_exporter": "python",
      "pygments_lexer": "ipython3",
      "version": "3.8.5"
    },
    "colab": {
      "name": "LessonThreePracticeHandson.ipynb",
      "provenance": [],
      "include_colab_link": true
    }
  },
  "cells": [
    {
      "cell_type": "markdown",
      "metadata": {
        "id": "view-in-github",
        "colab_type": "text"
      },
      "source": [
        "<a href=\"https://colab.research.google.com/github/BeccaOY/friendly-waffle/blob/main/LessonThreePracticeHandson.ipynb\" target=\"_parent\"><img src=\"https://colab.research.google.com/assets/colab-badge.svg\" alt=\"Open In Colab\"/></a>"
      ]
    },
    {
      "cell_type": "code",
      "metadata": {
        "id": "EXfu5OYGfJwV",
        "outputId": "2ae8f146-0275-4f0a-bdf5-8e6952156441"
      },
      "source": [
        "import pandas as pd\n",
        "\n",
        "EatingHabits  = pd.read_csv('C:/Users/MyPc/OneDrive/Desktop/COURSEWORK DS/Data Wrangling and Manipulation/LessonTwoDataTransformations/Eating_habits/Eating_Habits.csv)\n",
        "EatingHabits.head()\n",
        "\n",
        "#Recode Activity into a New Variable\n",
        "\n",
        "EatingHabits.Activity.value_counts()\n",
        "\n",
        "def activity (series):\n",
        "    if series == \"Eating fruit\" : \n",
        "        return 0\n",
        "    if series == \"Drinking soft drinks, cola or other drinks with sugar\" : \n",
        "        return 0\n",
        "    if series == \"Drinking coffee\" : \n",
        "        return 0\n",
        "    if series == \"Eating french fries\" : \n",
        "        return 0\n",
        "    if series == \"Eating hamburgers, hot dogs or sausages\" : \n",
        "        return 0\n",
        "    if series == \"Eating candy, chocolate bars\" : \n",
        "        return 1\n",
        "    if series == \"Eating whole wheat or rye bread\" : \n",
        "        return 0\n",
        "    if series == \"Eating raw vegetables\" : \n",
        "        return 0\n",
        "    if series == \"Eating potato chips, crisps\" : \n",
        "        return 0\n",
        "    if series == \"Drinking whole milk\" : \n",
        "        return 0\n",
        "    if series == \"Drinking low fat milk\" : \n",
        "        return 0\n",
        "    if series == \"Eating peanuts\" : \n",
        "        return 0\n",
        "\n",
        "EatingHabits['ChocolateYN'] = EatingHabits['Activity'].apply(activity)\n",
        "EatingHabits.head()\n",
        "\n",
        "# Recode Frequency and Sex from text to numbers in the same variable\n",
        "\n",
        "EatingHabits.Frequency.value_counts()\n",
        "EatingHabits.Sex.value_counts()\n",
        "\n",
        "cleanup = {\"Frequency\" : {\"Never\" : 0, \"Seldom\" : 1, \"At least once a week\" : 2, \"Once a day\" : 3, \"More than once a day\" : 4}, \"Sex\" : {\"Females\" : 0, \"Males\" : 1}}\n",
        "EatingHabits.replace(cleanup, inplace=True)\n",
        "EatingHabits.head()\n",
        "\n",
        "#Dummy code the Age group variable\n",
        "\n",
        "AgeDummy = pd.get_dummies(EatingHabits['Age group'], drop_first=True)\n",
        "AgeDummy\n",
        "\n",
        "EatingHabits2 = pd.concat([EatingHabits, AgeDummy], axis=1)\n",
        "EatingHabits2.head()"
      ],
      "execution_count": null,
      "outputs": [
        {
          "ename": "SyntaxError",
          "evalue": "EOL while scanning string literal (<ipython-input-1-94530b77b23d>, line 3)",
          "output_type": "error",
          "traceback": [
            "\u001b[1;36m  File \u001b[1;32m\"<ipython-input-1-94530b77b23d>\"\u001b[1;36m, line \u001b[1;32m3\u001b[0m\n\u001b[1;33m    EatingHabits  = pd.read_csv('C:/Users/MyPc/OneDrive/Desktop/COURSEWORK DS/Data Wrangling and Manipulation/LessonTwoDataTransformations/Eating_habits/Eating_Habits.csv)\u001b[0m\n\u001b[1;37m                                                                                                                                                                           ^\u001b[0m\n\u001b[1;31mSyntaxError\u001b[0m\u001b[1;31m:\u001b[0m EOL while scanning string literal\n"
          ]
        }
      ]
    },
    {
      "cell_type": "code",
      "metadata": {
        "id": "7rb82T9SfJwY"
      },
      "source": [
        ""
      ],
      "execution_count": null,
      "outputs": []
    }
  ]
}