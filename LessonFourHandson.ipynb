{
  "nbformat": 4,
  "nbformat_minor": 0,
  "metadata": {
    "kernelspec": {
      "display_name": "Python 3",
      "language": "python",
      "name": "python3"
    },
    "language_info": {
      "codemirror_mode": {
        "name": "ipython",
        "version": 3
      },
      "file_extension": ".py",
      "mimetype": "text/x-python",
      "name": "python",
      "nbconvert_exporter": "python",
      "pygments_lexer": "ipython3",
      "version": "3.8.5"
    },
    "colab": {
      "name": "LessonFourHandson.ipynb",
      "provenance": [],
      "include_colab_link": true
    }
  },
  "cells": [
    {
      "cell_type": "markdown",
      "metadata": {
        "id": "view-in-github",
        "colab_type": "text"
      },
      "source": [
        "<a href=\"https://colab.research.google.com/github/BeccaOY/friendly-waffle/blob/main/LessonFourHandson.ipynb\" target=\"_parent\"><img src=\"https://colab.research.google.com/assets/colab-badge.svg\" alt=\"Open In Colab\"/></a>"
      ]
    },
    {
      "cell_type": "code",
      "metadata": {
        "id": "mmebh-AogTGp"
      },
      "source": [
        "#PART 1\n",
        "import pandas as pd\n",
        "import numpy as np\n",
        "import seaborn as sns\n",
        "import matplotlib.pyplot as plt"
      ],
      "execution_count": null,
      "outputs": []
    },
    {
      "cell_type": "code",
      "metadata": {
        "id": "gAixV8QogTGt"
      },
      "source": [
        "df1 = pd.read_csv('L3P1.csv')"
      ],
      "execution_count": null,
      "outputs": []
    },
    {
      "cell_type": "code",
      "metadata": {
        "id": "e0CZ9JNHgTGu",
        "outputId": "b10329df-0451-49cc-b001-fddcb0ca0daf"
      },
      "source": [
        "df1.hist(bins = 7)"
      ],
      "execution_count": null,
      "outputs": [
        {
          "data": {
            "text/plain": [
              "array([[<AxesSubplot:title={'center':\"Power Boats (in 1000's)\"}>]],\n",
              "      dtype=object)"
            ]
          },
          "execution_count": 4,
          "metadata": {},
          "output_type": "execute_result"
        },
        {
          "data": {
            "image/png": "[encoded data removed]",
            "text/plain": [
              "<Figure size 432x288 with 1 Axes>"
            ]
          },
          "metadata": {
            "needs_background": "light"
          },
          "output_type": "display_data"
        }
      ]
    },
    {
      "cell_type": "code",
      "metadata": {
        "id": "raYg2nTjgTGv"
      },
      "source": [
        "df2 = pd.read_csv ('L3P2.csv')"
      ],
      "execution_count": null,
      "outputs": []
    },
    {
      "cell_type": "code",
      "metadata": {
        "id": "I4rVdQe0gTGv",
        "outputId": "93581a05-4931-4f56-9bda-5871eedb9515"
      },
      "source": [
        "df2.Cars.value_counts().plot(kind= 'bar')"
      ],
      "execution_count": null,
      "outputs": [
        {
          "data": {
            "text/plain": [
              "<AxesSubplot:>"
            ]
          },
          "execution_count": 6,
          "metadata": {},
          "output_type": "execute_result"
        },
        {
          "data": {
            "image/png": "[encoded data removed]",
            "text/plain": [
              "<Figure size 432x288 with 1 Axes>"
            ]
          },
          "metadata": {
            "needs_background": "light"
          },
          "output_type": "display_data"
        }
      ]
    },
    {
      "cell_type": "code",
      "metadata": {
        "id": "9c3iKpZlgTGw",
        "outputId": "76ffaaac-f4ae-4c80-9adc-a40c50befd85"
      },
      "source": [
        "df3 = pd.read_csv(\"L3Part3.csv\")\n",
        "cross_df = pd.crosstab(df3['Car'], df3['Location'])\n",
        "cross_df.plot.bar(stacked=True)"
      ],
      "execution_count": null,
      "outputs": [
        {
          "data": {
            "text/plain": [
              "<AxesSubplot:xlabel='Car'>"
            ]
          },
          "execution_count": 7,
          "metadata": {},
          "output_type": "execute_result"
        },
        {
          "data": {
            "image/png": "[encoded data removed]",
            "text/plain": [
              "<Figure size 432x288 with 1 Axes>"
            ]
          },
          "metadata": {
            "needs_background": "light"
          },
          "output_type": "display_data"
        }
      ]
    },
    {
      "cell_type": "code",
      "metadata": {
        "id": "XE4T828FgTGx",
        "outputId": "f8fbed26-94a5-4c1a-8f05-b5322af4343f"
      },
      "source": [
        "df3"
      ],
      "execution_count": null,
      "outputs": [
        {
          "data": {
            "text/html": [
              "<div>\n",
              "<style scoped>\n",
              "    .dataframe tbody tr th:only-of-type {\n",
              "        vertical-align: middle;\n",
              "    }\n",
              "\n",
              "    .dataframe tbody tr th {\n",
              "        vertical-align: top;\n",
              "    }\n",
              "\n",
              "    .dataframe thead th {\n",
              "        text-align: right;\n",
              "    }\n",
              "</style>\n",
              "<table border=\"1\" class=\"dataframe\">\n",
              "  <thead>\n",
              "    <tr style=\"text-align: right;\">\n",
              "      <th></th>\n",
              "      <th>Car</th>\n",
              "      <th>Location</th>\n",
              "    </tr>\n",
              "  </thead>\n",
              "  <tbody>\n",
              "    <tr>\n",
              "      <th>0</th>\n",
              "      <td>Ford</td>\n",
              "      <td>Northwest</td>\n",
              "    </tr>\n",
              "    <tr>\n",
              "      <th>1</th>\n",
              "      <td>Ford</td>\n",
              "      <td>East</td>\n",
              "    </tr>\n",
              "    <tr>\n",
              "      <th>2</th>\n",
              "      <td>Mitsubishi</td>\n",
              "      <td>Northwest</td>\n",
              "    </tr>\n",
              "    <tr>\n",
              "      <th>3</th>\n",
              "      <td>Datsun</td>\n",
              "      <td>Northwest</td>\n",
              "    </tr>\n",
              "    <tr>\n",
              "      <th>4</th>\n",
              "      <td>Mitsubishi</td>\n",
              "      <td>Southwest</td>\n",
              "    </tr>\n",
              "    <tr>\n",
              "      <th>...</th>\n",
              "      <td>...</td>\n",
              "      <td>...</td>\n",
              "    </tr>\n",
              "    <tr>\n",
              "      <th>82</th>\n",
              "      <td>Jaguar</td>\n",
              "      <td>Northwest</td>\n",
              "    </tr>\n",
              "    <tr>\n",
              "      <th>83</th>\n",
              "      <td>Jaguar</td>\n",
              "      <td>Southwest</td>\n",
              "    </tr>\n",
              "    <tr>\n",
              "      <th>84</th>\n",
              "      <td>Ford</td>\n",
              "      <td>Southwest</td>\n",
              "    </tr>\n",
              "    <tr>\n",
              "      <th>85</th>\n",
              "      <td>Mitsubishi</td>\n",
              "      <td>East</td>\n",
              "    </tr>\n",
              "    <tr>\n",
              "      <th>86</th>\n",
              "      <td>Dodge</td>\n",
              "      <td>Southwest</td>\n",
              "    </tr>\n",
              "  </tbody>\n",
              "</table>\n",
              "<p>87 rows × 2 columns</p>\n",
              "</div>"
            ],
            "text/plain": [
              "           Car   Location\n",
              "0         Ford  Northwest\n",
              "1         Ford       East\n",
              "2   Mitsubishi  Northwest\n",
              "3       Datsun  Northwest\n",
              "4   Mitsubishi  Southwest\n",
              "..         ...        ...\n",
              "82      Jaguar  Northwest\n",
              "83      Jaguar  Southwest\n",
              "84        Ford  Southwest\n",
              "85  Mitsubishi       East\n",
              "86       Dodge  Southwest\n",
              "\n",
              "[87 rows x 2 columns]"
            ]
          },
          "execution_count": 8,
          "metadata": {},
          "output_type": "execute_result"
        }
      ]
    },
    {
      "cell_type": "code",
      "metadata": {
        "id": "K4BsEp5sgTGx",
        "outputId": "9ea9867f-00cf-4d51-d9ad-b23b7effb50f"
      },
      "source": [
        "cross_df"
      ],
      "execution_count": null,
      "outputs": [
        {
          "data": {
            "text/html": [
              "<div>\n",
              "<style scoped>\n",
              "    .dataframe tbody tr th:only-of-type {\n",
              "        vertical-align: middle;\n",
              "    }\n",
              "\n",
              "    .dataframe tbody tr th {\n",
              "        vertical-align: top;\n",
              "    }\n",
              "\n",
              "    .dataframe thead th {\n",
              "        text-align: right;\n",
              "    }\n",
              "</style>\n",
              "<table border=\"1\" class=\"dataframe\">\n",
              "  <thead>\n",
              "    <tr style=\"text-align: right;\">\n",
              "      <th>Location</th>\n",
              "      <th>East</th>\n",
              "      <th>Northwest</th>\n",
              "      <th>Southwest</th>\n",
              "    </tr>\n",
              "    <tr>\n",
              "      <th>Car</th>\n",
              "      <th></th>\n",
              "      <th></th>\n",
              "      <th></th>\n",
              "    </tr>\n",
              "  </thead>\n",
              "  <tbody>\n",
              "    <tr>\n",
              "      <th>Datsun</th>\n",
              "      <td>1</td>\n",
              "      <td>2</td>\n",
              "      <td>2</td>\n",
              "    </tr>\n",
              "    <tr>\n",
              "      <th>Dodge</th>\n",
              "      <td>6</td>\n",
              "      <td>6</td>\n",
              "      <td>6</td>\n",
              "    </tr>\n",
              "    <tr>\n",
              "      <th>Ford</th>\n",
              "      <td>7</td>\n",
              "      <td>6</td>\n",
              "      <td>6</td>\n",
              "    </tr>\n",
              "    <tr>\n",
              "      <th>Jaguar</th>\n",
              "      <td>7</td>\n",
              "      <td>10</td>\n",
              "      <td>16</td>\n",
              "    </tr>\n",
              "    <tr>\n",
              "      <th>Mitsubishi</th>\n",
              "      <td>3</td>\n",
              "      <td>4</td>\n",
              "      <td>5</td>\n",
              "    </tr>\n",
              "  </tbody>\n",
              "</table>\n",
              "</div>"
            ],
            "text/plain": [
              "Location    East  Northwest  Southwest\n",
              "Car                                   \n",
              "Datsun         1          2          2\n",
              "Dodge          6          6          6\n",
              "Ford           7          6          6\n",
              "Jaguar         7         10         16\n",
              "Mitsubishi     3          4          5"
            ]
          },
          "execution_count": 10,
          "metadata": {},
          "output_type": "execute_result"
        }
      ]
    },
    {
      "cell_type": "code",
      "metadata": {
        "id": "2LFVfc-egTGx"
      },
      "source": [
        "df4= pd.read_csv('crocodiles.csv')"
      ],
      "execution_count": null,
      "outputs": []
    },
    {
      "cell_type": "code",
      "metadata": {
        "id": "A9pZ3BI3gTGy",
        "outputId": "cc0a32fb-7bf2-4394-a80b-e7c5cbed9cd3"
      },
      "source": [
        "plt.scatter(df4.HeadLength, df4.BodyLength)"
      ],
      "execution_count": null,
      "outputs": [
        {
          "data": {
            "text/plain": [
              "<matplotlib.collections.PathCollection at 0x20d3e8ed460>"
            ]
          },
          "execution_count": 13,
          "metadata": {},
          "output_type": "execute_result"
        },
        {
          "data": {
            "image/png": "[encoded data removed]",
            "text/plain": [
              "<Figure size 432x288 with 1 Axes>"
            ]
          },
          "metadata": {
            "needs_background": "light"
          },
          "output_type": "display_data"
        }
      ]
    },
    {
      "cell_type": "code",
      "metadata": {
        "id": "0gZFNWCmgTGy"
      },
      "source": [
        "df5 = pd.read_csv('L6Handson.csv')"
      ],
      "execution_count": null,
      "outputs": []
    },
    {
      "cell_type": "code",
      "metadata": {
        "id": "5I4BldqsgTGy",
        "outputId": "44e2125a-b062-4edc-a46b-8a77d8fee60c"
      },
      "source": [
        "df5"
      ],
      "execution_count": null,
      "outputs": [
        {
          "data": {
            "text/html": [
              "<div>\n",
              "<style scoped>\n",
              "    .dataframe tbody tr th:only-of-type {\n",
              "        vertical-align: middle;\n",
              "    }\n",
              "\n",
              "    .dataframe tbody tr th {\n",
              "        vertical-align: top;\n",
              "    }\n",
              "\n",
              "    .dataframe thead th {\n",
              "        text-align: right;\n",
              "    }\n",
              "</style>\n",
              "<table border=\"1\" class=\"dataframe\">\n",
              "  <thead>\n",
              "    <tr style=\"text-align: right;\">\n",
              "      <th></th>\n",
              "      <th>Month</th>\n",
              "      <th>Day</th>\n",
              "      <th>Year</th>\n",
              "      <th>Heart Attacks</th>\n",
              "      <th>Date</th>\n",
              "    </tr>\n",
              "  </thead>\n",
              "  <tbody>\n",
              "    <tr>\n",
              "      <th>0</th>\n",
              "      <td>May</td>\n",
              "      <td>1,</td>\n",
              "      <td>2003</td>\n",
              "      <td>12</td>\n",
              "      <td>May 1, 2003</td>\n",
              "    </tr>\n",
              "    <tr>\n",
              "      <th>1</th>\n",
              "      <td>May</td>\n",
              "      <td>2,</td>\n",
              "      <td>2003</td>\n",
              "      <td>12</td>\n",
              "      <td>May 2, 2003</td>\n",
              "    </tr>\n",
              "    <tr>\n",
              "      <th>2</th>\n",
              "      <td>May</td>\n",
              "      <td>3,</td>\n",
              "      <td>2003</td>\n",
              "      <td>6</td>\n",
              "      <td>May 3, 2003</td>\n",
              "    </tr>\n",
              "    <tr>\n",
              "      <th>3</th>\n",
              "      <td>May</td>\n",
              "      <td>4,</td>\n",
              "      <td>2003</td>\n",
              "      <td>16</td>\n",
              "      <td>May 4, 2003</td>\n",
              "    </tr>\n",
              "    <tr>\n",
              "      <th>4</th>\n",
              "      <td>May</td>\n",
              "      <td>5,</td>\n",
              "      <td>2003</td>\n",
              "      <td>13</td>\n",
              "      <td>May 5, 2003</td>\n",
              "    </tr>\n",
              "    <tr>\n",
              "      <th>...</th>\n",
              "      <td>...</td>\n",
              "      <td>...</td>\n",
              "      <td>...</td>\n",
              "      <td>...</td>\n",
              "      <td>...</td>\n",
              "    </tr>\n",
              "    <tr>\n",
              "      <th>86</th>\n",
              "      <td>July</td>\n",
              "      <td>26,</td>\n",
              "      <td>2003</td>\n",
              "      <td>17</td>\n",
              "      <td>July 26, 2003</td>\n",
              "    </tr>\n",
              "    <tr>\n",
              "      <th>87</th>\n",
              "      <td>July</td>\n",
              "      <td>27,</td>\n",
              "      <td>2003</td>\n",
              "      <td>19</td>\n",
              "      <td>July 27, 2003</td>\n",
              "    </tr>\n",
              "    <tr>\n",
              "      <th>88</th>\n",
              "      <td>July</td>\n",
              "      <td>28,</td>\n",
              "      <td>2003</td>\n",
              "      <td>27</td>\n",
              "      <td>July 28, 2003</td>\n",
              "    </tr>\n",
              "    <tr>\n",
              "      <th>89</th>\n",
              "      <td>July</td>\n",
              "      <td>29,</td>\n",
              "      <td>2003</td>\n",
              "      <td>11</td>\n",
              "      <td>July 29, 2003</td>\n",
              "    </tr>\n",
              "    <tr>\n",
              "      <th>90</th>\n",
              "      <td>July</td>\n",
              "      <td>30,</td>\n",
              "      <td>2003</td>\n",
              "      <td>18</td>\n",
              "      <td>July 30, 2003</td>\n",
              "    </tr>\n",
              "  </tbody>\n",
              "</table>\n",
              "<p>91 rows × 5 columns</p>\n",
              "</div>"
            ],
            "text/plain": [
              "   Month  Day  Year  Heart Attacks           Date\n",
              "0    May   1,  2003             12    May 1, 2003\n",
              "1    May   2,  2003             12    May 2, 2003\n",
              "2    May   3,  2003              6    May 3, 2003\n",
              "3    May   4,  2003             16    May 4, 2003\n",
              "4    May   5,  2003             13    May 5, 2003\n",
              "..   ...  ...   ...            ...            ...\n",
              "86  July  26,  2003             17  July 26, 2003\n",
              "87  July  27,  2003             19  July 27, 2003\n",
              "88  July  28,  2003             27  July 28, 2003\n",
              "89  July  29,  2003             11  July 29, 2003\n",
              "90  July  30,  2003             18  July 30, 2003\n",
              "\n",
              "[91 rows x 5 columns]"
            ]
          },
          "execution_count": 20,
          "metadata": {},
          "output_type": "execute_result"
        }
      ]
    },
    {
      "cell_type": "code",
      "metadata": {
        "id": "bVwFnV_1gTGz"
      },
      "source": [
        "df5['Date'] = df5['Month'].astype(str) + \" \" + df5['Day'].astype(str) + \" \" + df5['Year'].astype(str)"
      ],
      "execution_count": null,
      "outputs": []
    },
    {
      "cell_type": "code",
      "metadata": {
        "id": "TPDD-bhPgTGz",
        "outputId": "ae243c75-440f-42ab-f9a2-b56efa6fe87b"
      },
      "source": [
        "plt.plot(df5.Date, df5['Heart Attacks'])\n",
        "plt.xticks([0, 15, 30, 45, 60, 75, 90], ['May 1,', 'May 16', 'May 31', 'June 1', 'June 3', 'July 1', 'July 3'], rotation=25)"
      ],
      "execution_count": null,
      "outputs": [
        {
          "data": {
            "text/plain": [
              "([<matplotlib.axis.XTick at 0x20d3ea775b0>,\n",
              "  <matplotlib.axis.XTick at 0x20d3ea77580>,\n",
              "  <matplotlib.axis.XTick at 0x20d3ea6c7f0>,\n",
              "  <matplotlib.axis.XTick at 0x20d3ea9c250>,\n",
              "  <matplotlib.axis.XTick at 0x20d3ea9c760>,\n",
              "  <matplotlib.axis.XTick at 0x20d3ea9cc70>,\n",
              "  <matplotlib.axis.XTick at 0x20d3eaa21c0>],\n",
              " [Text(0, 0, 'May 1,'),\n",
              "  Text(15, 0, 'May 16'),\n",
              "  Text(30, 0, 'May 31'),\n",
              "  Text(45, 0, 'June 1'),\n",
              "  Text(60, 0, 'June 3'),\n",
              "  Text(75, 0, 'July 1'),\n",
              "  Text(90, 0, 'July 3')])"
            ]
          },
          "execution_count": 22,
          "metadata": {},
          "output_type": "execute_result"
        },
        {
          "data": {
            "image/png": "[encoded data removed]",
            "text/plain": [
              "<Figure size 432x288 with 1 Axes>"
            ]
          },
          "metadata": {
            "needs_background": "light"
          },
          "output_type": "display_data"
        }
      ]
    },
    {
      "cell_type": "code",
      "metadata": {
        "id": "qmjQK25ngTGz"
      },
      "source": [
        ""
      ],
      "execution_count": null,
      "outputs": []
    }
  ]
}