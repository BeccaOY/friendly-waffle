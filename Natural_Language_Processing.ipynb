{
  "nbformat": 4,
  "nbformat_minor": 0,
  "metadata": {
    "kernelspec": {
      "display_name": "Python 3",
      "language": "python",
      "name": "python3"
    },
    "language_info": {
      "codemirror_mode": {
        "name": "ipython",
        "version": 3
      },
      "file_extension": ".py",
      "mimetype": "text/x-python",
      "name": "python",
      "nbconvert_exporter": "python",
      "pygments_lexer": "ipython3",
      "version": "3.8.5"
    },
    "colab": {
      "name": "Natural Language Processing.ipynb",
      "provenance": [],
      "include_colab_link": true
    }
  },
  "cells": [
    {
      "cell_type": "markdown",
      "metadata": {
        "id": "view-in-github",
        "colab_type": "text"
      },
      "source": [
        "<a href=\"https://colab.research.google.com/github/BeccaOY/friendly-waffle/blob/main/Natural_Language_Processing.ipynb\" target=\"_parent\"><img src=\"https://colab.research.google.com/assets/colab-badge.svg\" alt=\"Open In Colab\"/></a>"
      ]
    },
    {
      "cell_type": "code",
      "metadata": {
        "id": "-u4AgDcX0aYV"
      },
      "source": [
        "import requests\n",
        "from bs4 import BeautifulSoup\n",
        "import nltk\n",
        "from nltk.tokenize import RegexpTokenizer\n",
        "import matplotlib.pyplot as plt\n",
        "import seaborn as sns\n",
        "%matplotlib inline"
      ],
      "execution_count": null,
      "outputs": []
    },
    {
      "cell_type": "code",
      "metadata": {
        "id": "gGighl-M0aYW"
      },
      "source": [
        "url = 'https://www.gutenberg.org/files/11/11-h/11-h.htm'\n"
      ],
      "execution_count": null,
      "outputs": []
    },
    {
      "cell_type": "code",
      "metadata": {
        "id": "wU-rVr1M0aYX"
      },
      "source": [
        "r = requests.get(url)\n"
      ],
      "execution_count": null,
      "outputs": []
    },
    {
      "cell_type": "code",
      "metadata": {
        "id": "kRF3n6KG0aYX",
        "outputId": "4eb85248-72e1-4972-f14a-b862bc5bd8c2"
      },
      "source": [
        "type(r)"
      ],
      "execution_count": null,
      "outputs": [
        {
          "data": {
            "text/plain": [
              "requests.models.Response"
            ]
          },
          "execution_count": 8,
          "metadata": {},
          "output_type": "execute_result"
        }
      ]
    },
    {
      "cell_type": "code",
      "metadata": {
        "id": "n2z29egr0aYY",
        "outputId": "3f702105-958f-4852-c2ae-42c1c6527dd0"
      },
      "source": [
        "#Convert Text to Soup\n",
        "html = r.text\n",
        "soup = BeautifulSoup(html,\"html.parser\")\n",
        "type(soup)"
      ],
      "execution_count": null,
      "outputs": [
        {
          "data": {
            "text/plain": [
              "bs4.BeautifulSoup"
            ]
          },
          "execution_count": 9,
          "metadata": {},
          "output_type": "execute_result"
        }
      ]
    },
    {
      "cell_type": "code",
      "metadata": {
        "id": "saqAR8lZ0aYY",
        "outputId": "3a233257-4cf8-490f-b9f8-875752e33012"
      },
      "source": [
        "#Use HTML Tags to Extract Useful Information\n",
        "soup.title.string"
      ],
      "execution_count": null,
      "outputs": [
        {
          "data": {
            "text/plain": [
              "'The Project Gutenberg eBook of Alice’s Adventures in Wonderland, by Lewis Carroll'"
            ]
          },
          "execution_count": 10,
          "metadata": {},
          "output_type": "execute_result"
        }
      ]
    },
    {
      "cell_type": "code",
      "metadata": {
        "id": "somuOiqi0aYZ",
        "outputId": "9ba3a873-747f-49d7-8977-d22aa3af7cfc"
      },
      "source": [
        "#Tokenize Data\n",
        "text = soup.get_text()\n",
        "tokenizer = RegexpTokenizer('\\w+')\n",
        "tokens = tokenizer.tokenize(text)\n",
        "tokens[:5]"
      ],
      "execution_count": null,
      "outputs": [
        {
          "data": {
            "text/plain": [
              "['The', 'Project', 'Gutenberg', 'eBook', 'of']"
            ]
          },
          "execution_count": 11,
          "metadata": {},
          "output_type": "execute_result"
        }
      ]
    },
    {
      "cell_type": "code",
      "metadata": {
        "id": "P78_1vCa0aYZ"
      },
      "source": [
        "#Remove Capitalization\n",
        "words = []\n",
        "for word in tokens:\n",
        "    words.append(word.lower())\n"
      ],
      "execution_count": null,
      "outputs": []
    },
    {
      "cell_type": "code",
      "metadata": {
        "id": "1VnrqLc40aYZ",
        "outputId": "45ec869b-f860-4137-abf5-e4055a173e42"
      },
      "source": [
        "words[:5]\n"
      ],
      "execution_count": null,
      "outputs": [
        {
          "data": {
            "text/plain": [
              "['the', 'project', 'gutenberg', 'ebook', 'of']"
            ]
          },
          "execution_count": 13,
          "metadata": {},
          "output_type": "execute_result"
        }
      ]
    },
    {
      "cell_type": "code",
      "metadata": {
        "id": "n4f50eCW0aYa",
        "outputId": "96e3b2e6-d239-4319-e93d-0476a11e9aa6"
      },
      "source": [
        "#Remove Stopword, ie. words that are not useful\n",
        "stopwords = nltk.corpus.stopwords.words('english')\n",
        "stopwords[:15]"
      ],
      "execution_count": null,
      "outputs": [
        {
          "data": {
            "text/plain": [
              "['i',\n",
              " 'me',\n",
              " 'my',\n",
              " 'myself',\n",
              " 'we',\n",
              " 'our',\n",
              " 'ours',\n",
              " 'ourselves',\n",
              " 'you',\n",
              " \"you're\",\n",
              " \"you've\",\n",
              " \"you'll\",\n",
              " \"you'd\",\n",
              " 'your',\n",
              " 'yours']"
            ]
          },
          "execution_count": 16,
          "metadata": {},
          "output_type": "execute_result"
        }
      ]
    },
    {
      "cell_type": "code",
      "metadata": {
        "id": "TyZupcK40aYa"
      },
      "source": [
        "#Add meaningful words to a dictionary\n",
        "wordsWithoutStops = []\n",
        "for word in words:\n",
        "    if word not in stopwords:\n",
        "        wordsWithoutStops.append(word)\n"
      ],
      "execution_count": null,
      "outputs": []
    },
    {
      "cell_type": "code",
      "metadata": {
        "id": "1jsR09q60aYa",
        "outputId": "1b5c083a-752c-420d-8717-bbb4b8f7d7a4"
      },
      "source": [
        "wordsWithoutStops[:10]\n"
      ],
      "execution_count": null,
      "outputs": [
        {
          "data": {
            "text/plain": [
              "['project',\n",
              " 'gutenberg',\n",
              " 'ebook',\n",
              " 'alice',\n",
              " 'adventures',\n",
              " 'wonderland',\n",
              " 'lewis',\n",
              " 'carroll',\n",
              " 'project',\n",
              " 'gutenberg']"
            ]
          },
          "execution_count": 18,
          "metadata": {},
          "output_type": "execute_result"
        }
      ]
    },
    {
      "cell_type": "code",
      "metadata": {
        "id": "qs-KuxfB0aYa",
        "outputId": "51d280a2-79fd-4ed7-847d-c5fce5989695"
      },
      "source": [
        "#Count relavant words and Plot \n",
        "sns.set()\n",
        "frequencyDis = nltk.FreqDist(wordsWithoutStops)\n",
        "frequencyDis.plot(30)\n"
      ],
      "execution_count": null,
      "outputs": [
        {
          "data": {
            "image/png": "[encoded data removed]",
            "text/plain": [
              "<Figure size 432x288 with 1 Axes>"
            ]
          },
          "metadata": {},
          "output_type": "display_data"
        },
        {
          "data": {
            "text/plain": [
              "<AxesSubplot:xlabel='Samples', ylabel='Counts'>"
            ]
          },
          "execution_count": 24,
          "metadata": {},
          "output_type": "execute_result"
        }
      ]
    },
    {
      "cell_type": "code",
      "metadata": {
        "id": "qJ9f8KUE0aYb"
      },
      "source": [
        "#I think a could have been a stopword in this case as well.\n",
        "#Involves a lot of dialogue looking at the frequency of the word 'said'.\n",
        "#The story seems to be about a little one called Alice\n",
        "#In a kingdom with a Queen and King"
      ],
      "execution_count": null,
      "outputs": []
    }
  ]
}